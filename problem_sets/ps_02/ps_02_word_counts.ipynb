{
 "cells": [
  {
   "cell_type": "markdown",
   "metadata": {},
   "source": [
    "# Problem set 2: Counting words\n",
    "\n",
    "## Description\n",
    "\n",
    "The goal of this problem set is to create the world's least visually-sophisticated word count graphic.\n",
    "\n",
    "Along the way, you'll experiment with stopword removal, case folding, and other processing steps.\n",
    "\n",
    "## Count words, naïvely\n",
    "\n",
    "We'll work with *Moby-Dick*, as we did in class.\n",
    "\n",
    "**Read the text of *Moby-Dick* from a file (it's on the class GitHub site, in the `data/texts` directory), tokenize it with NLTK's `word_tokenize` function, and count the resulting tokens in a `Counter` object.**\n",
    "\n",
    "You can refer to the lecture notebook from Monday, September 7, to borrow code to do all of this. But you must get that code working in the cell below. This cell should produce a `Counter` object that holds the token counts from the novel."
   ]
  },
  {
   "cell_type": "code",
   "execution_count": 9,
   "metadata": {},
   "outputs": [
    {
     "name": "stdout",
     "output_type": "stream",
     "text": [
      "Number of words:  20638\n",
      "20 most frequently occuring words: \n",
      ",: 19204\n",
      "the: 13715\n",
      ".: 7430\n",
      "of: 6513\n",
      "and: 6010\n",
      "a: 4546\n",
      "to: 4515\n",
      ";: 4173\n",
      "in: 3909\n",
      "that: 2981\n",
      "his: 2459\n",
      "it: 2205\n",
      "I: 2121\n",
      "!: 1767\n",
      "'s: 1731\n",
      "is: 1722\n",
      "--: 1714\n",
      "he: 1660\n",
      "with: 1659\n",
      "was: 1640\n"
     ]
    }
   ],
   "source": [
    "# Use standard Python file commands to open Moby-Dick,\n",
    "#  then count the words in that file.\n",
    "from nltk.tokenize import word_tokenize\n",
    "from collections import Counter\n",
    "\n",
    "moby_dick_file_path = \"../../data/texts/A-Melville-Moby_Dick-1851-M.txt\"\n",
    "with open(moby_dick_file_path) as f:\n",
    "    contents = f.read()\n",
    "    word_tokens = word_tokenize(contents)\n",
    "    word_cnt = Counter(word_tokens)\n",
    "    word_stats(word_cnt)"
   ]
  },
  {
   "cell_type": "markdown",
   "metadata": {},
   "source": [
    "**Print the total number of words (hint: use `Counter`'s `.values()` method, along with the `sum` function) in your text, as well as the 20 most frequently occurring terms and their counts.**\n",
    "\n",
    "We'll do this a lot, so wrap it up as a function that takes as input a `Counter` object and an optional number of top terms to print:\n",
    "\n",
    "```\n",
    "def word_stats(data, n=20):\n",
    "```\n",
    "\n",
    "The output of your fuction should look like this:\n",
    "\n",
    "```\n",
    "Total words in the text: 255380\n",
    "\n",
    "Top 20 words by frequency:\n",
    ",      19204\n",
    "the    13715\n",
    ".      7432\n",
    "\n",
    "[and so on ...]\n",
    "```"
   ]
  },
  {
   "cell_type": "code",
   "execution_count": 8,
   "metadata": {},
   "outputs": [],
   "source": [
    "# Your word_stats function here\n",
    "def word_stats(data, n=20):\n",
    "    '''\n",
    "    Print total wordcount and n top terms.\n",
    "    Takes a Counter object and a number of terms to print.\n",
    "    Returns None.\n",
    "    '''\n",
    "    print(\"Number of words: \",len(data))\n",
    "    print(\"20 most frequently occuring words: \")\n",
    "    for word, count in data.most_common(n):\n",
    "        print('%s: %d' % (word, count))"
   ]
  },
  {
   "cell_type": "code",
   "execution_count": null,
   "metadata": {},
   "outputs": [],
   "source": [
    "# Call word_stats on your data\n",
    "word_stats(...)"
   ]
  },
  {
   "cell_type": "markdown",
   "metadata": {},
   "source": [
    "## Case folding and stopwords\n",
    "\n",
    "As you can see, the top words that we counted aren't super informative. That said, list two things that you **can** say about the text with reasonable confidence on the basis of our results above:"
   ]
  },
  {
   "cell_type": "markdown",
   "metadata": {},
   "source": [
    "**Two things you *can* tell about *Moby-Dick* from the naïve word counts:**\n",
    "\n",
    "1. Most of the frequent words are the stop words and punctuations\n",
    "1. Multiple counts are split due to lower and upper case differences in naive word tokenization"
   ]
  },
  {
   "cell_type": "markdown",
   "metadata": {},
   "source": [
    "If we want our word list to be informative, we need to find a way to ignore high-frequency, low-information words. We can do this either by not counting them in the first place, or by excluding them from our reporting after we've collected them. Both methods have advantages and drawbacks. The one you pursue is up to you.\n",
    "\n",
    "**Modify the original code to ignore token case (e.g., 'The' and 'the' are both counted as occurrences of the same token; note the `.lower()` method for strings) and to remove the English-language stopwords defined by NLTK (`from nltk.corpus import stopwords`). Then display the total token count and top-20 tokens.**"
   ]
  },
  {
   "cell_type": "code",
   "execution_count": 11,
   "metadata": {},
   "outputs": [
    {
     "name": "stdout",
     "output_type": "stream",
     "text": [
      "Number of words:  16385\n",
      "20 most frequently occuring words: \n",
      "whale: 1096\n",
      "one: 913\n",
      "like: 580\n",
      "upon: 565\n",
      "ahab: 511\n",
      "man: 498\n",
      "ship: 469\n",
      "old: 443\n",
      "ye: 439\n",
      "would: 436\n",
      "sea: 384\n",
      "though: 383\n",
      "yet: 344\n",
      "time: 326\n",
      "captain: 325\n",
      "long: 318\n",
      "still: 312\n",
      "said: 305\n",
      "great: 303\n",
      "boat: 291\n"
     ]
    }
   ],
   "source": [
    "# Count tokens with case folding and NLTK English stopwords removed\n",
    "import string\n",
    "from nltk.corpus import stopwords\n",
    "low_words =  set(stopwords.words('english') + list(string.punctuation))\n",
    "\n",
    "from nltk.tokenize import word_tokenize\n",
    "from collections import Counter\n",
    "\n",
    "moby_dick_file_path = \"../../data/texts/A-Melville-Moby_Dick-1851-M.txt\"\n",
    "with open(moby_dick_file_path) as f:\n",
    "    contents = f.read().lower()\n",
    "    word_tokens = word_tokenize(contents)\n",
    "    word_tokens_updated = []\n",
    "    for word in word_tokens:\n",
    "        if (word not in low_words) and word.isalpha():\n",
    "            word_tokens_updated.append(word)\n",
    "    word_cnt = Counter(word_tokens_updated)\n",
    "    word_stats(word_cnt)"
   ]
  },
  {
   "cell_type": "markdown",
   "metadata": {},
   "source": [
    "Is this better? Maybe! **Note one advantage of this stopword-removed count, as well as one disadvantage:**"
   ]
  },
  {
   "cell_type": "markdown",
   "metadata": {},
   "source": [
    "**Advantage:**\n",
    "\n",
    "* Low information words have been removed\n",
    "\n",
    "**Disadvantage:**\n",
    "\n",
    "* Words not unique or important to the novel and its theme are still more frequent. Also tenses of words are counted as different words."
   ]
  },
  {
   "cell_type": "markdown",
   "metadata": {},
   "source": [
    "Let's see if we can further improve/refine our approach to continue narrowing our word list. Our goal is to produce a list that contains *only* interesting words and ranks them by frequency.\n",
    "\n",
    "**List at least two ideas for modifying the stopword list to better approach our goal:**\n",
    "\n",
    "1. Stemming and Lemmetisation\n",
    "1. Idea two"
   ]
  },
  {
   "cell_type": "markdown",
   "metadata": {},
   "source": [
    "**Implement one or more of your ideas to improve the stopword list, then display the output of your new version using `word_stats()`.**"
   ]
  },
  {
   "cell_type": "code",
   "execution_count": 15,
   "metadata": {},
   "outputs": [
    {
     "name": "stdout",
     "output_type": "stream",
     "text": [
      "Number of words:  9942\n",
      "20 most frequently occuring words: \n",
      "whale: 1478\n",
      "one: 933\n",
      "like: 594\n",
      "upon: 565\n",
      "ship: 564\n",
      "man: 512\n",
      "ahab: 512\n",
      "seem: 472\n",
      "sea: 471\n",
      "old: 443\n",
      "time: 441\n",
      "ye: 439\n",
      "would: 436\n",
      "boat: 435\n",
      "though: 383\n",
      "hand: 350\n",
      "captain: 347\n",
      "yet: 344\n",
      "head: 340\n",
      "look: 330\n"
     ]
    }
   ],
   "source": [
    "# Better stopwords in action!\n",
    "import string\n",
    "from collections import Counter\n",
    "from nltk.corpus import stopwords\n",
    "low_words =  set(stopwords.words('english') + list(string.punctuation))\n",
    "\n",
    "from nltk.tokenize import word_tokenize\n",
    "from nltk.stem import PorterStemmer\n",
    "from nltk.stem.snowball import SnowballStemmer\n",
    "\n",
    "moby_dick_file_path = \"../../data/texts/A-Melville-Moby_Dick-1851-M.txt\"\n",
    "with open(moby_dick_file_path) as f:\n",
    "    # ps = PorterStemmer()\n",
    "    snow_stemmer = SnowballStemmer(language='english')\n",
    "    contents = f.read().lower()\n",
    "    word_tokens = word_tokenize(contents)\n",
    "    word_tokens_updated = []\n",
    "    for word in word_tokens:\n",
    "        if (word not in low_words) and word.isalpha():\n",
    "            rootWord = snow_stemmer.stem(word)\n",
    "                # ps.stem(word)\n",
    "            # print(word, \" \", rootWord)\n",
    "            word_tokens_updated.append(rootWord)\n",
    "    word_cnt = Counter(word_tokens_updated)\n",
    "    word_stats(word_cnt)\n"
   ]
  },
  {
   "cell_type": "markdown",
   "metadata": {},
   "source": [
    "Refine your stoplist until you're satisfied with it. Make sure your code above displays the final output of your `word_stats` function. Then move on."
   ]
  },
  {
   "cell_type": "markdown",
   "metadata": {},
   "source": [
    "# Visualization\n",
    "\n",
    "Now, make the world's least visually-impressive word count graphic. Your task is to produce a visual representation of your top 10 words that shows the relative frquency of those terms.\n",
    "\n",
    "The simplest acceptable version of this visualization is a bar chart. **Complete the starter code below to produce a bar chart of the top ten words in the text.**\n",
    "\n",
    "Your output might look like this:\n",
    "\n",
    "![bar chart](ps_02_bar_chart.png)"
   ]
  },
  {
   "cell_type": "code",
   "execution_count": 18,
   "metadata": {},
   "outputs": [
    {
     "name": "stdout",
     "output_type": "stream",
     "text": [
      "[('whale', 1478), ('one', 933), ('like', 594), ('upon', 565), ('ship', 564), ('man', 512), ('ahab', 512), ('seem', 472), ('sea', 471), ('old', 443)]\n"
     ]
    },
    {
     "data": {
      "text/plain": "<Figure size 720x360 with 1 Axes>",
      "image/png": "[encoded data removed]"
     },
     "metadata": {
      "needs_background": "light"
     },
     "output_type": "display_data"
    }
   ],
   "source": [
    "# Make a bar chart of the top 10 words\n",
    "%matplotlib inline\n",
    "import matplotlib.pyplot as plt\n",
    "\n",
    "top10 = word_cnt.most_common(10)\n",
    "print(top10)\n",
    "# Get labels and counts\n",
    "labels = [ w for w, c in top10]\n",
    "counts = [ c for w, c in top10]\n",
    "\n",
    "# Create the figure\n",
    "# fig, ax = plt.subplots()\n",
    "# ax.barh(...)\n",
    "# ...\n",
    "\n",
    "fig = plt.figure(figsize = (10, 5))\n",
    "\n",
    "# creating the bar plot\n",
    "plt.bar(labels, counts, color ='maroon',\n",
    "        width = 0.4)\n",
    "\n",
    "plt.title(\"Top 10 words and their counts in Moby Dick\")\n",
    "plt.show()"
   ]
  },
  {
   "cell_type": "markdown",
   "metadata": {},
   "source": [
    "## Optional: word clouds\n",
    "\n",
    "**This is optional.** Make a word cloud. You can do this the ugly way in pure `matplotlib` or the easy-and-pretty way by using the [`wordcloud`](https://github.com/amueller/word_cloud) library:\n",
    "\n",
    "```\n",
    "conda install -c conda-forge wordcloud\n",
    "```\n",
    "If you use `wordcloud`, you'll be interested in the [`.generate_from_frequencies()` method](http://amueller.github.io/word_cloud/auto_examples/frequency.html).\n",
    "\n",
    "Here are examples of the ugly and the pretty outputs. Your specific results might vary.\n",
    "\n",
    "![ugly](ps_02_ugly_cloud.png)\n",
    "![pretty](ps_02_pretty_cloud.png)"
   ]
  },
  {
   "cell_type": "code",
   "execution_count": null,
   "metadata": {},
   "outputs": [],
   "source": [
    "# The ugly way (matplotlib)\n",
    "# Hint: you'll want to use the .text() plotting method\n",
    "# Strictly optional"
   ]
  },
  {
   "cell_type": "code",
   "execution_count": 24,
   "metadata": {},
   "outputs": [
    {
     "name": "stdout",
     "output_type": "stream",
     "text": [
      "here-\n"
     ]
    },
    {
     "ename": "ImportError",
     "evalue": "cannot import name 'ImageDraw' from 'PIL' (/Users/subbulakshmi/opt/anaconda3/envs/nlp_csl/lib/python3.8/site-packages/PIL/__init__.py)",
     "output_type": "error",
     "traceback": [
      "\u001B[0;31m---------------------------------------------------------------------------\u001B[0m",
      "\u001B[0;31mImportError\u001B[0m                               Traceback (most recent call last)",
      "Input \u001B[0;32mIn [24]\u001B[0m, in \u001B[0;36m<cell line: 5>\u001B[0;34m()\u001B[0m\n\u001B[1;32m      3\u001B[0m \u001B[38;5;28;01mfrom\u001B[39;00m \u001B[38;5;21;01mPIL\u001B[39;00m \u001B[38;5;28;01mimport\u001B[39;00m Image\n\u001B[1;32m      4\u001B[0m \u001B[38;5;28mprint\u001B[39m(\u001B[38;5;124m\"\u001B[39m\u001B[38;5;124mhere-\u001B[39m\u001B[38;5;124m\"\u001B[39m)\n\u001B[0;32m----> 5\u001B[0m \u001B[38;5;28;01mfrom\u001B[39;00m \u001B[38;5;21;01mwordcloud\u001B[39;00m \u001B[38;5;28;01mimport\u001B[39;00m WordCloud\n\u001B[1;32m      6\u001B[0m \u001B[38;5;28mprint\u001B[39m(\u001B[38;5;124m\"\u001B[39m\u001B[38;5;124mhere0\u001B[39m\u001B[38;5;124m\"\u001B[39m)\n\u001B[1;32m      7\u001B[0m \u001B[38;5;28;01mimport\u001B[39;00m \u001B[38;5;21;01mmatplotlib\u001B[39;00m\u001B[38;5;21;01m.\u001B[39;00m\u001B[38;5;21;01mpyplot\u001B[39;00m \u001B[38;5;28;01mas\u001B[39;00m \u001B[38;5;21;01mplt\u001B[39;00m\n",
      "File \u001B[0;32m~/opt/anaconda3/envs/nlp_csl/lib/python3.8/site-packages/wordcloud/__init__.py:1\u001B[0m, in \u001B[0;36m<module>\u001B[0;34m\u001B[0m\n\u001B[0;32m----> 1\u001B[0m \u001B[38;5;28;01mfrom\u001B[39;00m \u001B[38;5;21;01m.\u001B[39;00m\u001B[38;5;21;01mwordcloud\u001B[39;00m \u001B[38;5;28;01mimport\u001B[39;00m (WordCloud, STOPWORDS, random_color_func,\n\u001B[1;32m      2\u001B[0m                         get_single_color_func)\n\u001B[1;32m      3\u001B[0m \u001B[38;5;28;01mfrom\u001B[39;00m \u001B[38;5;21;01m.\u001B[39;00m\u001B[38;5;21;01mcolor_from_image\u001B[39;00m \u001B[38;5;28;01mimport\u001B[39;00m ImageColorGenerator\n\u001B[1;32m      5\u001B[0m __all__ \u001B[38;5;241m=\u001B[39m [\u001B[38;5;124m'\u001B[39m\u001B[38;5;124mWordCloud\u001B[39m\u001B[38;5;124m'\u001B[39m, \u001B[38;5;124m'\u001B[39m\u001B[38;5;124mSTOPWORDS\u001B[39m\u001B[38;5;124m'\u001B[39m, \u001B[38;5;124m'\u001B[39m\u001B[38;5;124mrandom_color_func\u001B[39m\u001B[38;5;124m'\u001B[39m,\n\u001B[1;32m      6\u001B[0m            \u001B[38;5;124m'\u001B[39m\u001B[38;5;124mget_single_color_func\u001B[39m\u001B[38;5;124m'\u001B[39m, \u001B[38;5;124m'\u001B[39m\u001B[38;5;124mImageColorGenerator\u001B[39m\u001B[38;5;124m'\u001B[39m,\n\u001B[1;32m      7\u001B[0m            \u001B[38;5;124m'\u001B[39m\u001B[38;5;124m__version__\u001B[39m\u001B[38;5;124m'\u001B[39m]\n",
      "File \u001B[0;32m~/opt/anaconda3/envs/nlp_csl/lib/python3.8/site-packages/wordcloud/wordcloud.py:26\u001B[0m, in \u001B[0;36m<module>\u001B[0;34m\u001B[0m\n\u001B[1;32m     24\u001B[0m \u001B[38;5;28;01mfrom\u001B[39;00m \u001B[38;5;21;01mPIL\u001B[39;00m \u001B[38;5;28;01mimport\u001B[39;00m Image\n\u001B[1;32m     25\u001B[0m \u001B[38;5;28;01mfrom\u001B[39;00m \u001B[38;5;21;01mPIL\u001B[39;00m \u001B[38;5;28;01mimport\u001B[39;00m ImageColor\n\u001B[0;32m---> 26\u001B[0m \u001B[38;5;28;01mfrom\u001B[39;00m \u001B[38;5;21;01mPIL\u001B[39;00m \u001B[38;5;28;01mimport\u001B[39;00m ImageDraw\n\u001B[1;32m     27\u001B[0m \u001B[38;5;28;01mfrom\u001B[39;00m \u001B[38;5;21;01mPIL\u001B[39;00m \u001B[38;5;28;01mimport\u001B[39;00m ImageFilter\n\u001B[1;32m     28\u001B[0m \u001B[38;5;28;01mfrom\u001B[39;00m \u001B[38;5;21;01mPIL\u001B[39;00m \u001B[38;5;28;01mimport\u001B[39;00m ImageFont\n",
      "\u001B[0;31mImportError\u001B[0m: cannot import name 'ImageDraw' from 'PIL' (/Users/subbulakshmi/opt/anaconda3/envs/nlp_csl/lib/python3.8/site-packages/PIL/__init__.py)"
     ]
    }
   ],
   "source": [
    "# The pretty way\n",
    "# Strictly optional\n",
    "from PIL import Image\n",
    "print(\"here-\")\n",
    "from wordcloud import WordCloud\n",
    "print(\"here0\")\n",
    "import matplotlib.pyplot as plt\n",
    "print(\"here1\")\n",
    "wc = WordCloud(background_color=\"white\", max_words=1000)\n",
    "wc.generate_from_frequencies(word_cnt)\n",
    "print(\"here2\")\n",
    "plt.imshow(wc, interpolation=\"bilinear\")\n",
    "plt.axis(\"off\")\n",
    "plt.show()"
   ]
  },
  {
   "cell_type": "code",
   "execution_count": null,
   "metadata": {},
   "outputs": [],
   "source": []
  }
 ],
 "metadata": {
  "kernelspec": {
   "display_name": "Python 3",
   "language": "python",
   "name": "python3"
  },
  "language_info": {
   "codemirror_mode": {
    "name": "ipython",
    "version": 3
   },
   "file_extension": ".py",
   "mimetype": "text/x-python",
   "name": "python",
   "nbconvert_exporter": "python",
   "pygments_lexer": "ipython3",
   "version": "3.8.3"
  }
 },
 "nbformat": 4,
 "nbformat_minor": 4
}