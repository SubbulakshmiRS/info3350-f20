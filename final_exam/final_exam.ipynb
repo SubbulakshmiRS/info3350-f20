{
 "cells": [
  {
   "cell_type": "markdown",
   "metadata": {},
   "source": [
    "# Final exam\n",
    "\n",
    "**Note:** Use these guidelines if and only if you are taking the **final exam**. If you are working on a **final project of your own design**, see the (separate) [final project guidelines](https://github.com/wilkens-teaching/info3350-f20/blob/master/final_exam/final_project_guidelines.ipynb).\n",
    "\n",
    "## Guidelines\n",
    "\n",
    "This exam is for **undergraduates enrolled in INFO 3350**. If you are a graduate student enrolled in INFO 6350, you must complete a final project of your own design.\n",
    "\n",
    "### The task\n",
    "\n",
    "Your task is to: identify an interesting problem that's addressable with the help of computational methods applied to the supplied corpus, formulate a hypothesis about that problem, devise an experiment or experiments to test your hypothesis, present the results of your investigations, and discuss your findings.\n",
    "\n",
    "This workflow essentially replicates the process of writing an academic paper. You can think of your exam as a paper in miniature.\n",
    "\n",
    "You are free to present each component as you see fit. You should use free-form text (that is, your own writing in a markdown cell), citations of others' work, numerical results, tables of data, and static and/or interactive visualizations as appropriate. Total length is flexible and depends on the specific balance you strike between the ambition of your question and the sophistication of your methods. But be aware that numbers never, ever speak for themselves. Quantitative results presented without substantial discussion are unlikely to earn high marks. \n",
    "\n",
    "Your project should reflect, at minimum, ten or more hours of work, though you will be graded on the quality of your output, not the amount of time it took you to produce it.\n",
    "\n",
    "### The corpus\n",
    "\n",
    "We have supplied you with a corpus of 1,540 volumes of American fiction published between 1789 and 1875, as well as a range of potentially relevant metadata. This corpus is large: it contains well over 100 million words. Some summary and descriptive statistics are included below, along with a short annotation of the metadata fields.\n",
    "\n",
    "**Be aware that some (but certainly not all) text analysis tasks will be slow (or impossible) when run over a corpus as large as this one.** For comparison purposes, the album review dataset we used for problem set 11 contained about 10% as many words (but a lot more total documents). You might consider whether or not your question requires the use of the full corpus.\n",
    "\n",
    "Volumes in the corpus are those that were included in volumes 1 and 2 of Lyle Wright's three-volume bibliography of American fiction before 1900 and that were digitized by the University of Virginia (1789-1850) and Indiana University (1851-1875). This corpus includes about 40% of the American fiction from the period (1789-1875) that has been preserved in American academic libraries. You might think a little about what kinds of books are most likely to have found their way first into print and then into academic libraries, and what kinds of books (and authors) might not have.\n",
    "\n",
    "Metadata were collected manually by a team of undergraduate students at the University of Notre Dame.\n",
    "\n",
    "**Note that the nineteenth century was awful.** These books reflect that fact in all kinds of ways, even though (or maybe because) they were generally considered unproblematic at the time. If you read the books or dig very far into the most informative features, you will quickly discover objectionable content. It would be valuable to devise (and you will be rewarded for devising) methods to avoid displaying unmasked versions of racial slurs, for example, in any visualization that might otherwise include them.\n",
    "\n",
    "### Format\n",
    "\n",
    "You should submit your exam as a report in the form of a Jupyter notebook that includes all code, figures, and write-up.\n",
    "\n",
    "Your report should have four basic sections (provided in cells below for ease of reference and reuse):\n",
    "\n",
    "1. **Introduction and hypothesis.** What problem are you working on? Why is it interesting and important? What have other people said about it? What do you expect to find?\n",
    "2. **Corpus, data, and methods.** What data have you used? What major methods will you use to analyze it? Why are those methods the appropriate ones?\n",
    "3. **Results.** What did you find? How did you find it? How should we read your figures? Be sure to include confidence intervals or other measures of uncetainty where appropriate.\n",
    "4. **Discussion and conclusions.** What does it all mean? Do your results support your hypothesis? Why or why not? What are the limitations of your study and how might those limitations be addressed in future work?\n",
    "\n",
    "Within each of those sections, you may use as many code and markdown cells as you like. You may, of course, address additional questions or issues not listed above.\n",
    "\n",
    "All code used in the project should be present in the notebook (except for widely-available libraries that you import), but **be sure that we can read and understand your report in full without rerunning the code**. Be sure, too, to explain what you're doing along the way, both by describing your data and methods and by writing clean, well commented code.\n",
    "\n",
    "### Grading\n",
    "\n",
    "This exam is the take-home final for the course. It is worth 20% of your overall grade. You will be graded on the quality and ambition of each aspect of the project. No single component is more important than the others.\n",
    "\n",
    "### Practical details\n",
    "\n",
    "* The exam is due at **5:00pm EST on Saturday, December 19, 2020** via upload to CMS.\n",
    "* **You must work alone.** You may not collaborate with others.\n",
    "    * You may post questions on Campuswire, but should do so privately (visible to course staff only).\n",
    "* Interactive visualizations do not always work when embedded in shared notebooks. If you plan to use interactives, you may need to host them elsewhere and link to them.\n",
    "\n",
    "---"
   ]
  },
  {
   "cell_type": "markdown",
   "metadata": {},
   "source": [
    "## 1. Introduction and hypothesis"
   ]
  },
  {
   "cell_type": "code",
   "execution_count": null,
   "metadata": {},
   "outputs": [],
   "source": []
  },
  {
   "cell_type": "markdown",
   "metadata": {},
   "source": [
    "## 2. Data and methods"
   ]
  },
  {
   "cell_type": "code",
   "execution_count": 1,
   "metadata": {},
   "outputs": [],
   "source": [
    "# Imports\n",
    "import os\n",
    "import pandas as pd\n",
    "\n",
    "# File locations\n",
    "#   Note that metadata are supplied as a TSV file\n",
    "#   Text files are in a directory, one file per (long, novel-like) document\n",
    "metadata_file = os.path.join('..', 'data', 'us_fiction', 'corpus_data.tsv')\n",
    "text_dir      = os.path.join('..', 'data', 'us_fiction', 'us_texts')"
   ]
  },
  {
   "cell_type": "code",
   "execution_count": 2,
   "metadata": {},
   "outputs": [],
   "source": [
    "# Load the metadata\n",
    "metadata = pd.read_csv(\n",
    "    metadata_file, \n",
    "    sep='\\t',\n",
    "    low_memory=False\n",
    ").set_index('source_id')"
   ]
  },
  {
   "cell_type": "markdown",
   "metadata": {},
   "source": [
    "### Corpus details\n",
    "\n",
    "The cells below are supplied to help you understand the corpus. **You should remove them from your completed exam** and include only the information you deem relevant to your report. That said, you are free to keep the metadata-loading code above and you may copy any and all of the other code below for your own purposes."
   ]
  },
  {
   "cell_type": "code",
   "execution_count": 3,
   "metadata": {},
   "outputs": [
    {
     "data": {
      "text/html": [
       "<div>\n",
       "<style scoped>\n",
       "    .dataframe tbody tr th:only-of-type {\n",
       "        vertical-align: middle;\n",
       "    }\n",
       "\n",
       "    .dataframe tbody tr th {\n",
       "        vertical-align: top;\n",
       "    }\n",
       "\n",
       "    .dataframe thead th {\n",
       "        text-align: right;\n",
       "    }\n",
       "</style>\n",
       "<table border=\"1\" class=\"dataframe\">\n",
       "  <thead>\n",
       "    <tr style=\"text-align: right;\">\n",
       "      <th></th>\n",
       "      <th>author</th>\n",
       "      <th>title</th>\n",
       "      <th>pub_place</th>\n",
       "      <th>publisher</th>\n",
       "      <th>pub_date</th>\n",
       "      <th>gender</th>\n",
       "      <th>gender_guess</th>\n",
       "      <th>ethnicity</th>\n",
       "      <th>occupation</th>\n",
       "      <th>occupation_free</th>\n",
       "      <th>state_born</th>\n",
       "      <th>state_main</th>\n",
       "      <th>state_died</th>\n",
       "      <th>born</th>\n",
       "      <th>died</th>\n",
       "      <th>words</th>\n",
       "    </tr>\n",
       "    <tr>\n",
       "      <th>source_id</th>\n",
       "      <th></th>\n",
       "      <th></th>\n",
       "      <th></th>\n",
       "      <th></th>\n",
       "      <th></th>\n",
       "      <th></th>\n",
       "      <th></th>\n",
       "      <th></th>\n",
       "      <th></th>\n",
       "      <th></th>\n",
       "      <th></th>\n",
       "      <th></th>\n",
       "      <th></th>\n",
       "      <th></th>\n",
       "      <th></th>\n",
       "      <th></th>\n",
       "    </tr>\n",
       "  </thead>\n",
       "  <tbody>\n",
       "    <tr>\n",
       "      <th>eaf001</th>\n",
       "      <td>Allston, Washington</td>\n",
       "      <td>Monaldi</td>\n",
       "      <td>Boston</td>\n",
       "      <td>C. C. Little and J. Brown</td>\n",
       "      <td>1841</td>\n",
       "      <td>M</td>\n",
       "      <td>0.0</td>\n",
       "      <td>White</td>\n",
       "      <td>Arts</td>\n",
       "      <td>Painter</td>\n",
       "      <td>SC</td>\n",
       "      <td>MA</td>\n",
       "      <td>MA</td>\n",
       "      <td>1779.0</td>\n",
       "      <td>1843.0</td>\n",
       "      <td>47541</td>\n",
       "    </tr>\n",
       "    <tr>\n",
       "      <th>eaf002</th>\n",
       "      <td>Bacon, Delia Salter</td>\n",
       "      <td>Tales of the puritans</td>\n",
       "      <td>New Haven [Conn.]</td>\n",
       "      <td>A. H. Maltby</td>\n",
       "      <td>1831</td>\n",
       "      <td>F</td>\n",
       "      <td>0.0</td>\n",
       "      <td>White</td>\n",
       "      <td>Education</td>\n",
       "      <td>Teacher</td>\n",
       "      <td>OH</td>\n",
       "      <td>CT</td>\n",
       "      <td>CT</td>\n",
       "      <td>1811.0</td>\n",
       "      <td>1859.0</td>\n",
       "      <td>70010</td>\n",
       "    </tr>\n",
       "    <tr>\n",
       "      <th>eaf003</th>\n",
       "      <td>Bacon, Delia Salter</td>\n",
       "      <td>Love's martyr</td>\n",
       "      <td>Cincinnati</td>\n",
       "      <td>Printed by E. Morgan and Co.</td>\n",
       "      <td>1838</td>\n",
       "      <td>F</td>\n",
       "      <td>0.0</td>\n",
       "      <td>White</td>\n",
       "      <td>Education</td>\n",
       "      <td>Teacher</td>\n",
       "      <td>OH</td>\n",
       "      <td>CT</td>\n",
       "      <td>CT</td>\n",
       "      <td>1811.0</td>\n",
       "      <td>1859.0</td>\n",
       "      <td>13547</td>\n",
       "    </tr>\n",
       "    <tr>\n",
       "      <th>eaf004</th>\n",
       "      <td>Bacon, Delia Salter</td>\n",
       "      <td>The bride of Fort Edward</td>\n",
       "      <td>New York</td>\n",
       "      <td>Samuel Colman</td>\n",
       "      <td>1839</td>\n",
       "      <td>F</td>\n",
       "      <td>0.0</td>\n",
       "      <td>White</td>\n",
       "      <td>Education</td>\n",
       "      <td>Teacher</td>\n",
       "      <td>OH</td>\n",
       "      <td>CT</td>\n",
       "      <td>CT</td>\n",
       "      <td>1811.0</td>\n",
       "      <td>1859.0</td>\n",
       "      <td>34309</td>\n",
       "    </tr>\n",
       "    <tr>\n",
       "      <th>eaf005</th>\n",
       "      <td>Belknap, Jeremy</td>\n",
       "      <td>The foresters</td>\n",
       "      <td>Boston</td>\n",
       "      <td>Printed by I. Thomas and E. T. Andrews</td>\n",
       "      <td>1792</td>\n",
       "      <td>M</td>\n",
       "      <td>0.0</td>\n",
       "      <td>White</td>\n",
       "      <td>Church</td>\n",
       "      <td>Minister</td>\n",
       "      <td>MA</td>\n",
       "      <td>NH</td>\n",
       "      <td>MA</td>\n",
       "      <td>1744.0</td>\n",
       "      <td>1798.0</td>\n",
       "      <td>33731</td>\n",
       "    </tr>\n",
       "  </tbody>\n",
       "</table>\n",
       "</div>"
      ],
      "text/plain": [
       "                        author                     title          pub_place  \\\n",
       "source_id                                                                     \n",
       "eaf001     Allston, Washington                   Monaldi             Boston   \n",
       "eaf002     Bacon, Delia Salter     Tales of the puritans  New Haven [Conn.]   \n",
       "eaf003     Bacon, Delia Salter             Love's martyr         Cincinnati   \n",
       "eaf004     Bacon, Delia Salter  The bride of Fort Edward           New York   \n",
       "eaf005         Belknap, Jeremy             The foresters             Boston   \n",
       "\n",
       "                                        publisher  pub_date gender  \\\n",
       "source_id                                                            \n",
       "eaf001                  C. C. Little and J. Brown      1841      M   \n",
       "eaf002                               A. H. Maltby      1831      F   \n",
       "eaf003               Printed by E. Morgan and Co.      1838      F   \n",
       "eaf004                              Samuel Colman      1839      F   \n",
       "eaf005     Printed by I. Thomas and E. T. Andrews      1792      M   \n",
       "\n",
       "           gender_guess ethnicity occupation occupation_free state_born  \\\n",
       "source_id                                                                 \n",
       "eaf001              0.0     White       Arts         Painter         SC   \n",
       "eaf002              0.0     White  Education         Teacher         OH   \n",
       "eaf003              0.0     White  Education         Teacher         OH   \n",
       "eaf004              0.0     White  Education         Teacher         OH   \n",
       "eaf005              0.0     White     Church        Minister         MA   \n",
       "\n",
       "          state_main state_died    born    died  words  \n",
       "source_id                                               \n",
       "eaf001            MA         MA  1779.0  1843.0  47541  \n",
       "eaf002            CT         CT  1811.0  1859.0  70010  \n",
       "eaf003            CT         CT  1811.0  1859.0  13547  \n",
       "eaf004            CT         CT  1811.0  1859.0  34309  \n",
       "eaf005            NH         MA  1744.0  1798.0  33731  "
      ]
     },
     "execution_count": 3,
     "metadata": {},
     "output_type": "execute_result"
    }
   ],
   "source": [
    "# Glance at the metadata\n",
    "metadata.head()"
   ]
  },
  {
   "cell_type": "code",
   "execution_count": 4,
   "metadata": {},
   "outputs": [
    {
     "data": {
      "text/html": [
       "<div>\n",
       "<style scoped>\n",
       "    .dataframe tbody tr th:only-of-type {\n",
       "        vertical-align: middle;\n",
       "    }\n",
       "\n",
       "    .dataframe tbody tr th {\n",
       "        vertical-align: top;\n",
       "    }\n",
       "\n",
       "    .dataframe thead th {\n",
       "        text-align: right;\n",
       "    }\n",
       "</style>\n",
       "<table border=\"1\" class=\"dataframe\">\n",
       "  <thead>\n",
       "    <tr style=\"text-align: right;\">\n",
       "      <th></th>\n",
       "      <th>pub_date</th>\n",
       "      <th>gender_guess</th>\n",
       "      <th>born</th>\n",
       "      <th>died</th>\n",
       "      <th>words</th>\n",
       "    </tr>\n",
       "  </thead>\n",
       "  <tbody>\n",
       "    <tr>\n",
       "      <th>count</th>\n",
       "      <td>1540.000000</td>\n",
       "      <td>1425.000000</td>\n",
       "      <td>1188.000000</td>\n",
       "      <td>1165.000000</td>\n",
       "      <td>1.540000e+03</td>\n",
       "    </tr>\n",
       "    <tr>\n",
       "      <th>mean</th>\n",
       "      <td>1853.963636</td>\n",
       "      <td>0.197193</td>\n",
       "      <td>1811.624579</td>\n",
       "      <td>1878.185408</td>\n",
       "      <td>7.584156e+04</td>\n",
       "    </tr>\n",
       "    <tr>\n",
       "      <th>std</th>\n",
       "      <td>15.764799</td>\n",
       "      <td>0.398019</td>\n",
       "      <td>17.669353</td>\n",
       "      <td>22.077845</td>\n",
       "      <td>5.916979e+04</td>\n",
       "    </tr>\n",
       "    <tr>\n",
       "      <th>min</th>\n",
       "      <td>1789.000000</td>\n",
       "      <td>0.000000</td>\n",
       "      <td>1744.000000</td>\n",
       "      <td>1793.000000</td>\n",
       "      <td>1.667000e+03</td>\n",
       "    </tr>\n",
       "    <tr>\n",
       "      <th>25%</th>\n",
       "      <td>1845.000000</td>\n",
       "      <td>0.000000</td>\n",
       "      <td>1804.000000</td>\n",
       "      <td>1860.000000</td>\n",
       "      <td>4.820550e+04</td>\n",
       "    </tr>\n",
       "    <tr>\n",
       "      <th>50%</th>\n",
       "      <td>1855.000000</td>\n",
       "      <td>0.000000</td>\n",
       "      <td>1811.000000</td>\n",
       "      <td>1881.000000</td>\n",
       "      <td>6.927450e+04</td>\n",
       "    </tr>\n",
       "    <tr>\n",
       "      <th>75%</th>\n",
       "      <td>1867.000000</td>\n",
       "      <td>0.000000</td>\n",
       "      <td>1823.000000</td>\n",
       "      <td>1893.000000</td>\n",
       "      <td>9.377150e+04</td>\n",
       "    </tr>\n",
       "    <tr>\n",
       "      <th>max</th>\n",
       "      <td>1875.000000</td>\n",
       "      <td>1.000000</td>\n",
       "      <td>1857.000000</td>\n",
       "      <td>1934.000000</td>\n",
       "      <td>1.150556e+06</td>\n",
       "    </tr>\n",
       "  </tbody>\n",
       "</table>\n",
       "</div>"
      ],
      "text/plain": [
       "          pub_date  gender_guess         born         died         words\n",
       "count  1540.000000   1425.000000  1188.000000  1165.000000  1.540000e+03\n",
       "mean   1853.963636      0.197193  1811.624579  1878.185408  7.584156e+04\n",
       "std      15.764799      0.398019    17.669353    22.077845  5.916979e+04\n",
       "min    1789.000000      0.000000  1744.000000  1793.000000  1.667000e+03\n",
       "25%    1845.000000      0.000000  1804.000000  1860.000000  4.820550e+04\n",
       "50%    1855.000000      0.000000  1811.000000  1881.000000  6.927450e+04\n",
       "75%    1867.000000      0.000000  1823.000000  1893.000000  9.377150e+04\n",
       "max    1875.000000      1.000000  1857.000000  1934.000000  1.150556e+06"
      ]
     },
     "execution_count": 4,
     "metadata": {},
     "output_type": "execute_result"
    }
   ],
   "source": [
    "# Summary stats for numeric columns\n",
    "metadata.describe()"
   ]
  },
  {
   "cell_type": "markdown",
   "metadata": {},
   "source": [
    "### Field definitions and distributional stats\n",
    "\n",
    "Most of the metadata fields are self-explanatory, but here are some details. Note that not every field in the metadata is described below.\n",
    "\n",
    "* `source_id`: This is the name of the file corresponding to the volume. You can use it to match metadata records to full-text documents. Note that the corpus includes a nontrivial number of multivolume works. These volumes have `source_id`s like `eaf086v1` or `Wright2-1720v2`.\n",
    "* `gender`: Author gender. `M`, `F`, or  `NaN` (= unknown).\n",
    "* `gender_guess`: Was the author gender assignment determined by biographical research (`0`) or by guessing on the basis of the author's name (`1`)?\n",
    "* `ethnicity`: Author ethnicity. One of `White`, `Black`, `Native`, or `NaN` (= unknown). Always assigned via biographical research. Not very useful, as the values are almost exclusively `White` or `NaN`. This fact tells you something about the US literary field in the nineteenth century.\n",
    "* `occupation` and `occupation_free`: The author's primary employment identification. Recall that the US in the nineteenth century didn't always have a large market for novels, so many of the authors in the corpus made their living by other means. The difference between these fields is that `occupation` uses a fixed vocabulary, while `occupation_free` does not (so includes more detailed or fine-grained information).\n",
    "* `state_*`: The state in which the author was `born`, `died`, and with which they are conventionally associated (`main`).\n",
    "* `born` and `died`: Year of the author's birth and death, respectively, where known."
   ]
  },
  {
   "cell_type": "code",
   "execution_count": 5,
   "metadata": {},
   "outputs": [
    {
     "data": {
      "text/plain": [
       "M    1005\n",
       "F     420\n",
       "Name: gender, dtype: int64"
      ]
     },
     "metadata": {},
     "output_type": "display_data"
    },
    {
     "name": "stdout",
     "output_type": "stream",
     "text": [
      "\n"
     ]
    },
    {
     "data": {
      "text/plain": [
       "0.0    1144\n",
       "1.0     281\n",
       "Name: gender_guess, dtype: int64"
      ]
     },
     "metadata": {},
     "output_type": "display_data"
    },
    {
     "name": "stdout",
     "output_type": "stream",
     "text": [
      "\n"
     ]
    },
    {
     "data": {
      "text/plain": [
       "White     1040\n",
       "Native       3\n",
       "Black        3\n",
       "Name: ethnicity, dtype: int64"
      ]
     },
     "metadata": {},
     "output_type": "display_data"
    },
    {
     "name": "stdout",
     "output_type": "stream",
     "text": [
      "\n"
     ]
    },
    {
     "data": {
      "text/plain": [
       "Editor-Critic-Journalist        217\n",
       "Writer                          187\n",
       "Education                       147\n",
       "Politics-Government-Activism    136\n",
       "Church                          121\n",
       "Military-Seafaring               72\n",
       "Law                              57\n",
       "Business-Trade                   33\n",
       "Medicine                         28\n",
       "Agriculture-Land                  6\n",
       "Arts                              6\n",
       "Name: occupation, dtype: int64"
      ]
     },
     "metadata": {},
     "output_type": "display_data"
    },
    {
     "name": "stdout",
     "output_type": "stream",
     "text": [
      "\n"
     ]
    },
    {
     "data": {
      "text/plain": [
       "NY         286\n",
       "MA         123\n",
       "PA          97\n",
       "MS          74\n",
       "MD          72\n",
       "ME          69\n",
       "DC          38\n",
       "SC          32\n",
       "CT          26\n",
       "OH          23\n",
       "VA          22\n",
       "NC          16\n",
       "NJ          13\n",
       "MO          11\n",
       "IL          11\n",
       "VT           9\n",
       "IN           8\n",
       "Germany      7\n",
       "CA           7\n",
       "LA           5\n",
       "WV           5\n",
       "GA           5\n",
       "AL           4\n",
       "RI           3\n",
       "KY           3\n",
       "OR           3\n",
       "MI           3\n",
       "MN           2\n",
       "TN           2\n",
       "AR           2\n",
       "England      1\n",
       "NH           1\n",
       "CO           1\n",
       "TX           1\n",
       "FL           1\n",
       "Italy        1\n",
       "Name: state_main, dtype: int64"
      ]
     },
     "metadata": {},
     "output_type": "display_data"
    },
    {
     "name": "stdout",
     "output_type": "stream",
     "text": [
      "\n"
     ]
    }
   ],
   "source": [
    "# Occurrence counts for selected metadata fields\n",
    "for col in ['gender', 'gender_guess', 'ethnicity', 'occupation', 'state_main']:\n",
    "    display(metadata[col].value_counts())\n",
    "    print()"
   ]
  },
  {
   "cell_type": "code",
   "execution_count": 6,
   "metadata": {},
   "outputs": [
    {
     "data": {
      "image/png": "[encoded data removed]",
      "text/plain": [
       "<Figure size 432x288 with 1 Axes>"
      ]
     },
     "metadata": {
      "needs_background": "light"
     },
     "output_type": "display_data"
    }
   ],
   "source": [
    "# Distribution of publication dates\n",
    "metadata.pub_date.plot.hist(bins=metadata.pub_date.max()-metadata.pub_date.min()+1);"
   ]
  },
  {
   "cell_type": "code",
   "execution_count": 7,
   "metadata": {},
   "outputs": [
    {
     "data": {
      "image/png": "[encoded data removed]",
      "text/plain": [
       "<Figure size 432x288 with 1 Axes>"
      ]
     },
     "metadata": {
      "needs_background": "light"
     },
     "output_type": "display_data"
    }
   ],
   "source": [
    "# Distribution of volume lengths\n",
    "#   Note removal of long volumes\n",
    "metadata.loc[metadata.words.between(0,250000)].words.plot.hist(bins=100);"
   ]
  },
  {
   "cell_type": "markdown",
   "metadata": {},
   "source": [
    "The corpus includes some very long and very short volumes. Think about what you want to do with outliers. You'll also want to think about whether or not to break each volume into chunks; this is a good idea for some purposes, but not for others."
   ]
  },
  {
   "cell_type": "markdown",
   "metadata": {},
   "source": [
    "## 3. Results"
   ]
  },
  {
   "cell_type": "code",
   "execution_count": null,
   "metadata": {},
   "outputs": [],
   "source": []
  },
  {
   "cell_type": "markdown",
   "metadata": {},
   "source": [
    "## 4. Discussion and conclusions"
   ]
  },
  {
   "cell_type": "code",
   "execution_count": null,
   "metadata": {},
   "outputs": [],
   "source": []
  }
 ],
 "metadata": {
  "kernelspec": {
   "display_name": "Python 3",
   "language": "python",
   "name": "python3"
  },
  "language_info": {
   "codemirror_mode": {
    "name": "ipython",
    "version": 3
   },
   "file_extension": ".py",
   "mimetype": "text/x-python",
   "name": "python",
   "nbconvert_exporter": "python",
   "pygments_lexer": "ipython3",
   "version": "3.8.3"
  }
 },
 "nbformat": 4,
 "nbformat_minor": 4
}
